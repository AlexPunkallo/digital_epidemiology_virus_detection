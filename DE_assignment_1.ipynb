{
 "cells": [
  {
   "cell_type": "markdown",
   "metadata": {},
   "source": [
    "<center>\n",
    "<h1>Digital Epidemiology</h1>\n",
    "<h2>Assignment 1</h2>\n",
    "<h2>Alessandro Gallo</h2>\n",
    "</center>"
   ]
  },
  {
   "cell_type": "code",
   "execution_count": 1,
   "metadata": {},
   "outputs": [],
   "source": [
    "import numpy as np\n",
    "import networkx as nx\n",
    "import matplotlib.pyplot as plt\n",
    "import seaborn as sns\n",
    "from operator import itemgetter\n",
    "%matplotlib inline\n",
    "from random import choice\n",
    "import time"
   ]
  },
  {
   "cell_type": "markdown",
   "metadata": {},
   "source": [
    "# PART 1\n",
    "## 1.1 Degree distribution of the graph."
   ]
  },
  {
   "cell_type": "markdown",
   "metadata": {},
   "source": [
    "### Prepare the graph\n",
    "\n",
    "The graph was downloaded to http://snap.stanford.edu/data/as.html and represents the connections between Autonomous Systems (AS), subgraphs made by the routers that together constitute the connections in the Internet. The dataset contains 733 daily instances which span an interval of 785 days from November 8 1997 to January 2 2000."
   ]
  },
  {
   "cell_type": "code",
   "execution_count": 2,
   "metadata": {},
   "outputs": [
    {
     "name": "stdout",
     "output_type": "stream",
     "text": [
      "Is it a directed graph? True, i'll make it undirected\n",
      "Connected components: 1\n",
      "N° of nodes: 6474\n",
      "N° of edges: 13895\n"
     ]
    }
   ],
   "source": [
    "# Initialize the graph\n",
    "G = nx.Graph ()\n",
    "# Graph dataset\n",
    "file = 'data/as20000102.txt'\n",
    "# Load the dataset and clean it\n",
    "G = nx.read_adjlist(file , delimiter = '\\t', create_using = nx.DiGraph())\n",
    "print \"Is it a directed graph? %s, i'll make it undirected\" % G.is_directed()\n",
    "# Make undirectede the graph\n",
    "G=G.to_undirected()\n",
    "print \"Connected components: %s\" % nx.number_connected_components(G)\n",
    "print \"N° of nodes: %s\" % len(G.nodes())\n",
    "print \"N° of edges: %s\" % len(G.edges())"
   ]
  },
  {
   "cell_type": "markdown",
   "metadata": {},
   "source": [
    "### Degree Distribution"
   ]
  },
  {
   "cell_type": "code",
   "execution_count": 28,
   "metadata": {},
   "outputs": [
    {
     "data": {
      "image/png": "[encoded data removed]",
      "text/plain": [
       "<matplotlib.figure.Figure at 0x20719e10>"
      ]
     },
     "metadata": {},
     "output_type": "display_data"
    }
   ],
   "source": [
    "dic = {}\n",
    "for n in G.nodes():\n",
    "    d = G.degree(n)\n",
    "    if d not in dic:\n",
    "        dic[d] = 0\n",
    "    dic[d] += 1\n",
    "fig = plt.figure(figsize=(14,10))\n",
    "fig.add_subplot(111).scatter([x for (x ,y) in sorted (dic.items())] , [y for (x, y) in sorted (dic.items())])\n",
    "fig.add_subplot(111).set_xscale ('log'), fig.add_subplot(111).set_yscale ('log')\n",
    "plt.ylabel('Number of nodes'), plt.xlabel('Node degree'), plt.title (\"Degree Distribution\"), plt.ylim(pow(10,-1),pow(10,5))\n",
    "plt.show()"
   ]
  },
  {
   "cell_type": "markdown",
   "metadata": {},
   "source": [
    "##  1.2 Simulation of the SIR epidemic model and epidemic curve"
   ]
  },
  {
   "cell_type": "markdown",
   "metadata": {},
   "source": [
    "### Simulation function\n",
    "\n",
    "The function takes in input the graph, $\\mu$ , $\\beta$ and (in case) the sentinels and runs the simulation of the SIR model on the given graph. If we don't consider sentinels nodes in the inputs the function returns I_net, otherwise it returns the average arrival times of the desease to the sentinels"
   ]
  },
  {
   "cell_type": "code",
   "execution_count": 4,
   "metadata": {
    "collapsed": true
   },
   "outputs": [],
   "source": [
    "# Simulation function\n",
    "def simulation(G, mu, beta, sentinels):\n",
    "    \n",
    "    # set up initial state of the system\n",
    "\n",
    "    # list of infected nodes\n",
    "    infected_nodes = [ seed ]\n",
    "\n",
    "    # we need to store the disease status of each node\n",
    "    # S=0, I=1, R=-1\n",
    "    G.disease_status = dict((n,0) for n in G.nodes())\n",
    "    G.disease_status[seed] = 1\n",
    "\n",
    "    # create a directed graph to represent the invasion tree\n",
    "    G_inv = nx.DiGraph()\n",
    "    G_inv.add_nodes_from(G.nodes())\n",
    "    \n",
    "    I_net,times,time,mt = [],{},0,0  # used to store the history of the system\n",
    "    \n",
    "    # loop until there are infectious nodes\n",
    "    while len(infected_nodes) > 0:\n",
    "    # store state:\n",
    "    # each item is a tuple of the form (<number of infected nodes>, <node dictionary>),\n",
    "    # where <node dictionary> has node IDs as keys and node disease status as values.\n",
    "        I_net.append( (len(infected_nodes), G.disease_status.copy()) )\n",
    "    \n",
    "        time=time+1\n",
    "    \n",
    "    # TRANSMISSION: loop over infectious nodes\n",
    "        for i in infected_nodes:\n",
    "        # loop over the neighbors of infectious nodes\n",
    "            for j in G.neighbors(i):\n",
    "                if G.disease_status[j] == 0:\n",
    "                # here j is a susceptible neighbor of infectious node i\n",
    "                    p = np.random.random()\n",
    "                    if p < beta:\n",
    "                        G.disease_status[j] = 1 # node j has now been infected\n",
    "                    # add edge i->j to invasion tree\n",
    "                        G_inv.add_edge(i, j)\n",
    "                        if j in sentinels:\n",
    "                            times[j]=time\n",
    "    \n",
    "        # RECOVERY\n",
    "        for k in infected_nodes:\n",
    "            p = np.random.random()\n",
    "            if p < mu:\n",
    "                G.disease_status[k] = -1\n",
    "    \n",
    "    # update list of infectious nodes\n",
    "        infected_nodes = []\n",
    "        for n in G.nodes():\n",
    "            if G.disease_status[n] == 1:\n",
    "                infected_nodes.append(n)\n",
    " \n",
    "    I_net.append( (len(infected_nodes), G.disease_status.copy()))\n",
    "    mt=np.mean(times.values())\n",
    "    \n",
    "    if sentinels==[]:\n",
    "        return(I_net)\n",
    "    else:\n",
    "        return(mt)"
   ]
  },
  {
   "cell_type": "markdown",
   "metadata": {},
   "source": [
    "### Run simulation\n",
    "\n",
    "We choose $\\mu$=0.02 and $\\beta$=0.08 and start the simulation."
   ]
  },
  {
   "cell_type": "code",
   "execution_count": 5,
   "metadata": {},
   "outputs": [
    {
     "name": "stderr",
     "output_type": "stream",
     "text": [
      "C:\\Users\\User\\Anaconda2\\lib\\site-packages\\numpy\\core\\_methods.py:59: RuntimeWarning: Mean of empty slice.\n",
      "  warnings.warn(\"Mean of empty slice.\", RuntimeWarning)\n"
     ]
    }
   ],
   "source": [
    "mu, beta = 0.02 , 0.08  # mu = infectious period \n",
    "                        # beta = probability of infection given a contact\n",
    "seed = (sorted(G.degree_iter(), key=itemgetter(1)))[-1][0]\n",
    "# Start the simulation (the empty input will be used later for the sentinels)\n",
    "I_net=simulation(G, mu, beta, [])"
   ]
  },
  {
   "cell_type": "markdown",
   "metadata": {},
   "source": [
    "### Epidemic curve"
   ]
  },
  {
   "cell_type": "code",
   "execution_count": 27,
   "metadata": {},
   "outputs": [
    {
     "name": "stdout",
     "output_type": "stream",
     "text": [
      "Total number of nodes 6474\n",
      "The total number of recovered nodes is 6023\n",
      "The final attack rate is 0.930336731542\n",
      "The epidemic is over at time 426\n"
     ]
    },
    {
     "data": {
      "image/png": "[encoded data removed]",
      "text/plain": [
       "<matplotlib.figure.Figure at 0x1cd55b70>"
      ]
     },
     "metadata": {},
     "output_type": "display_data"
    }
   ],
   "source": [
    "# Plot the epidemic curve\n",
    "plt.figure(figsize=(14,10)), plt.xlabel('Time', fontsize=18), plt.ylabel('Prevalence', fontsize=18)\n",
    "plt.plot(xrange(0,len(I_net)), [float(n)/len(G.nodes()) for n, state in I_net], '.-' )\n",
    "\n",
    "#Some informations\n",
    "print \"Total number of nodes\", G.number_of_nodes()\n",
    "print \"The total number of recovered nodes is\", len([n for n in G.disease_status if G.disease_status[n] == -1])\n",
    "print \"The final attack rate is\", float(len([n for n in G.disease_status if G.disease_status[n] == -1]))/len(G.nodes())\n",
    "print \"The epidemic is over at time\", len(I_net)"
   ]
  },
  {
   "cell_type": "markdown",
   "metadata": {
    "collapsed": true
   },
   "source": [
    "# PART 2\n",
    "## 2.1 Distribution of arrival times for many realizations of the epidemic with sentinel nodes"
   ]
  },
  {
   "cell_type": "markdown",
   "metadata": {},
   "source": [
    "### Prepare the sentinels"
   ]
  },
  {
   "cell_type": "code",
   "execution_count": 7,
   "metadata": {},
   "outputs": [],
   "source": [
    "# Choose random nodes from the graph representing the 1% of the total nodes\n",
    "sentinels = np.random.choice(G.nodes(), size=int(round(len(G))*0.01), replace=False)\n",
    "# N° of simulations\n",
    "n_sim=300\n",
    "# Make a sentinels matrix for the simulation (in this case the sentinels rows are all the same)\n",
    "matrix = [sentinels for y in range(n_sim)]"
   ]
  },
  {
   "cell_type": "markdown",
   "metadata": {},
   "source": [
    "### Start the simulations"
   ]
  },
  {
   "cell_type": "code",
   "execution_count": 8,
   "metadata": {},
   "outputs": [
    {
     "name": "stderr",
     "output_type": "stream",
     "text": [
      "C:\\Users\\User\\Anaconda2\\lib\\site-packages\\ipykernel\\__main__.py:58: FutureWarning: elementwise comparison failed; returning scalar instead, but in the future will perform elementwise comparison\n"
     ]
    }
   ],
   "source": [
    "#Start the simulation\n",
    "tot_times = [simulation(G, mu, beta,matrix[i]) for i in range(n_sim)]"
   ]
  },
  {
   "cell_type": "markdown",
   "metadata": {},
   "source": [
    "### Boxplot of the arrival times"
   ]
  },
  {
   "cell_type": "code",
   "execution_count": 25,
   "metadata": {},
   "outputs": [
    {
     "data": {
      "image/png": "[encoded data removed]",
      "text/plain": [
       "<matplotlib.figure.Figure at 0x1fd0a198>"
      ]
     },
     "metadata": {},
     "output_type": "display_data"
    }
   ],
   "source": [
    "# Boxplot of the arrival times\n",
    "plt.figure(figsize=(14,10)), plt.ylabel('Arrival Times', fontsize=15)\n",
    "p=plt.boxplot(tot_times,labels=['Nodes'])"
   ]
  },
  {
   "cell_type": "markdown",
   "metadata": {},
   "source": [
    "## 2.2 Distribution of arrival times with many random choices for the N sentinel nodes"
   ]
  },
  {
   "cell_type": "markdown",
   "metadata": {},
   "source": [
    "### Start the simulations with random sentinels"
   ]
  },
  {
   "cell_type": "code",
   "execution_count": 10,
   "metadata": {},
   "outputs": [
    {
     "name": "stderr",
     "output_type": "stream",
     "text": [
      "C:\\Users\\User\\Anaconda2\\lib\\site-packages\\ipykernel\\__main__.py:58: FutureWarning: elementwise comparison failed; returning scalar instead, but in the future will perform elementwise comparison\n"
     ]
    }
   ],
   "source": [
    "# Let's make now a sentinels matrix with random choises of the sentinels\n",
    "matrix = [np.random.choice(G.nodes(), size=int(round(len(G))*0.01), replace=False) for y in range(n_sim)]\n",
    "#Start the simulations with the new matrix\n",
    "tot_times = [simulation(G, mu, beta,matrix[i]) for i in range(n_sim)]"
   ]
  },
  {
   "cell_type": "markdown",
   "metadata": {},
   "source": [
    "### Boxplot of the arrival times with random sentinels"
   ]
  },
  {
   "cell_type": "code",
   "execution_count": 24,
   "metadata": {},
   "outputs": [
    {
     "data": {
      "image/png": "[encoded data removed]",
      "text/plain": [
       "<matplotlib.figure.Figure at 0x1cd55cc0>"
      ]
     },
     "metadata": {},
     "output_type": "display_data"
    }
   ],
   "source": [
    "#Boxplot of the arrival times\n",
    "plt.figure(figsize=(14,10)), plt.ylabel('Times', fontsize=15)\n",
    "p=plt.boxplot(tot_times,labels=['Nodes'])"
   ]
  },
  {
   "cell_type": "markdown",
   "metadata": {
    "collapsed": true
   },
   "source": [
    "## 2.3 Different metrics, different sentinels, different results"
   ]
  },
  {
   "cell_type": "markdown",
   "metadata": {},
   "source": [
    "### Degree Centrality"
   ]
  },
  {
   "cell_type": "code",
   "execution_count": 12,
   "metadata": {},
   "outputs": [],
   "source": [
    "dc_bottom=[tup[0] for tup in sorted(nx.degree_centrality(G).items(), key=lambda x: x[1])[:int(round(len(G))*0.01)]]\n",
    "dc_top=[tup[0] for tup in sorted(nx.degree_centrality(G).items(), key=lambda x: x[1])[-int(round(len(G))*0.01):]]\n",
    "tot_times_dc_bot = [simulation(G, mu, beta,dc_bottom) for i in range(n_sim)]\n",
    "tot_times_dc_top= [simulation(G, mu, beta,dc_top) for i in range(n_sim)]"
   ]
  },
  {
   "cell_type": "markdown",
   "metadata": {},
   "source": [
    "### Betweenness Centrality"
   ]
  },
  {
   "cell_type": "code",
   "execution_count": 13,
   "metadata": {},
   "outputs": [],
   "source": [
    "bc_bottom=[tup[0] for tup in sorted(nx.betweenness_centrality(G).items(), key=lambda x: x[1])[:int(round(len(G))*0.01)]]\n",
    "bc_top=[tup[0] for tup in sorted(nx.betweenness_centrality(G).items(), key=lambda x: x[1])[-int(round(len(G))*0.01):]]\n",
    "tot_times_bc_bot = [simulation(G, mu, beta,bc_bottom) for i in range(n_sim)]\n",
    "tot_times_bc_top= [simulation(G, mu, beta,bc_top) for i in range(n_sim)]"
   ]
  },
  {
   "cell_type": "markdown",
   "metadata": {},
   "source": [
    "### Page Rank"
   ]
  },
  {
   "cell_type": "code",
   "execution_count": 14,
   "metadata": {},
   "outputs": [],
   "source": [
    "pg_bottom=[tup[0] for tup in sorted(nx.pagerank(G).items(), key=lambda x: x[1])[:int(round(len(G))*0.01)]]\n",
    "pg_top=[tup[0] for tup in sorted(nx.pagerank(G).items(), key=lambda x: x[1])[-int(round(len(G))*0.01):]]\n",
    "tot_times_pg_bot = [simulation(G, mu, beta,pg_bottom) for i in range(n_sim)]\n",
    "tot_times_pg_top= [simulation(G, mu, beta,pg_top) for i in range(n_sim)]"
   ]
  },
  {
   "cell_type": "markdown",
   "metadata": {},
   "source": [
    "### Closeness Centrality"
   ]
  },
  {
   "cell_type": "code",
   "execution_count": 15,
   "metadata": {
    "collapsed": true
   },
   "outputs": [],
   "source": [
    "cc_bottom=[tup[0] for tup in sorted(nx.closeness_centrality(G).items(), key=lambda x: x[1])[:int(round(len(G))*0.01)]]\n",
    "cc_top=[tup[0] for tup in sorted(nx.closeness_centrality(G).items(), key=lambda x: x[1])[-int(round(len(G))*0.01):]]\n",
    "tot_times_cc_bot = [simulation(G, mu, beta,cc_bottom) for i in range(n_sim)]\n",
    "tot_times_cc_top= [simulation(G, mu, beta,cc_top) for i in range(n_sim)]"
   ]
  },
  {
   "cell_type": "markdown",
   "metadata": {},
   "source": [
    "### Boxplots of the metrics"
   ]
  },
  {
   "cell_type": "code",
   "execution_count": 16,
   "metadata": {},
   "outputs": [
    {
     "data": {
      "image/png": "[encoded data removed]",
      "text/plain": [
       "<matplotlib.figure.Figure at 0x1ce357b8>"
      ]
     },
     "metadata": {},
     "output_type": "display_data"
    }
   ],
   "source": [
    "plt.figure(figsize=(14,10)), plt.ylabel('Arrival Time', fontsize=15)\n",
    "data = [tot_times_dc_bot, tot_times_dc_top,tot_times_bc_bot,tot_times_bc_top, tot_times_pg_bot,tot_times_pg_top,tot_times_cc_bot,tot_times_cc_top]\n",
    "labels = ['deg_cen_bot','deg_cen_top','bet_cen_bot','bet_cen_top','p_rank_bot','p_rank_top','cl_cen_bot','cl_cen_top']\n",
    "p=plt.boxplot(data,labels=labels)"
   ]
  },
  {
   "cell_type": "markdown",
   "metadata": {},
   "source": [
    "As we can see from the multiple boxplot, the choice of the sentinels influences the performance of the arrival time of the desease. The best N-nodes are the ones with high values of their respective algorithms, like top-N nodes of degree centrality or closeness centrality. We can understand this behaviour due to the fact that these kind of nodes facilitate the propagation of the desease to all the graph for their high centrality properties."
   ]
  },
  {
   "cell_type": "markdown",
   "metadata": {},
   "source": [
    "# PART 3\n",
    "## 3.1  Strategies to reduce average detection time of the epidemic (no global knowledge)"
   ]
  },
  {
   "cell_type": "markdown",
   "metadata": {},
   "source": [
    "### Prepare the sentinels\n",
    "\n",
    "Let's image now that we just know the sentinels, their neighbors and arcs between them. How could we choose the sentinels with this poor local knowledge of the graph? First of all, let's select this subgraph."
   ]
  },
  {
   "cell_type": "code",
   "execution_count": 17,
   "metadata": {},
   "outputs": [],
   "source": [
    "# Create a subgraph where we just know the random sentinels, their neighbors and the arcs between them\n",
    "sentinels = np.random.choice(G.nodes(), size=int(round(len(G))*0.01), replace=False)\n",
    "\n",
    "#Subgraph\n",
    "F = nx.Graph()\n",
    "# For each sentinel x\n",
    "for x in sentinels:\n",
    "    # and for each neighbor y of the sentinel x\n",
    "    for y in G.neighbors(x):\n",
    "        # Make an edge between the sentinel x and its neighbor y (make the the edges between the sentinels and their neighbors)\n",
    "        F.add_edge(x, y)\n",
    "        # For each neighbor j of the neighbor y of the sentinel x\n",
    "        for j in G.neighbors(y):\n",
    "            # If j is one of the neighbors of x\n",
    "            if j in G.neighbors(x):\n",
    "                # add an edge between j and y (make the arcs between the neighbors of the sentinels)\n",
    "                F.add_edge(j,y)"
   ]
  },
  {
   "cell_type": "markdown",
   "metadata": {},
   "source": [
    "###  Standard case (random sentinels)"
   ]
  },
  {
   "cell_type": "code",
   "execution_count": 18,
   "metadata": {},
   "outputs": [
    {
     "name": "stderr",
     "output_type": "stream",
     "text": [
      "C:\\Users\\User\\Anaconda2\\lib\\site-packages\\ipykernel\\__main__.py:58: FutureWarning: elementwise comparison failed; returning scalar instead, but in the future will perform elementwise comparison\n"
     ]
    }
   ],
   "source": [
    "normal = [simulation(G, mu, beta,sentinels) for i in range(n_sim)]"
   ]
  },
  {
   "cell_type": "markdown",
   "metadata": {},
   "source": [
    "### 1° :  Choose the sentinels among the nodes with the highest  Degree Centrality"
   ]
  },
  {
   "cell_type": "code",
   "execution_count": 19,
   "metadata": {},
   "outputs": [],
   "source": [
    "dc_top=[tup[0] for tup in sorted(nx.degree_centrality(F).items(), key=lambda x: x[1])[-int(round(len(G))*0.01):]]\n",
    "tot_times_dc_top= [simulation(G, mu, beta,dc_top) for i in range(n_sim)]"
   ]
  },
  {
   "cell_type": "markdown",
   "metadata": {},
   "source": [
    "### 2° :  Choose the sentinels among the nodes with the highest Closeness Centrality"
   ]
  },
  {
   "cell_type": "code",
   "execution_count": 20,
   "metadata": {},
   "outputs": [],
   "source": [
    "cc_top=[tup[0] for tup in sorted(nx.closeness_centrality(F).items(), key=lambda x: x[1])[-int(round(len(G))*0.01):]]\n",
    "tot_times_cc_top= [simulation(G, mu, beta,cc_top) for i in range(n_sim)]"
   ]
  },
  {
   "cell_type": "markdown",
   "metadata": {},
   "source": [
    "###  Boxplot of the cases"
   ]
  },
  {
   "cell_type": "code",
   "execution_count": 23,
   "metadata": {},
   "outputs": [
    {
     "data": {
      "image/png": "[encoded data removed]",
      "text/plain": [
       "<matplotlib.figure.Figure at 0x1fef8048>"
      ]
     },
     "metadata": {},
     "output_type": "display_data"
    }
   ],
   "source": [
    "plt.figure(figsize=(14,10)), plt.ylabel('Arrival Time', fontsize=15)\n",
    "data = [normal,tot_times_dc_top,tot_times_cc_top]\n",
    "labels = ['normal','dc_top','cc_top']\n",
    "p=plt.boxplot(data,labels=labels)"
   ]
  },
  {
   "cell_type": "markdown",
   "metadata": {},
   "source": [
    "## 3.2  Why the strategies work"
   ]
  },
  {
   "cell_type": "markdown",
   "metadata": {
    "collapsed": true
   },
   "source": [
    "As we can see, despite the poor local knowledge of the graph, we were able to improve the performance of the arrival time of the desease by choosing the neighbor nodes of the sentinels with, for example, the highest degree centrality or closeness centrality. The strategies work because these properties facilitate the propagation of the desease. \n",
    "We certainly don't know if these nodes are, globally, a good choice; locally the nodes perform very well but, as a big fish in a small fish tank, if we had a greater knowledge of the graph we could know that other neighbor nodes we had are even better than the ones we chose."
   ]
  },
  {
   "cell_type": "code",
   "execution_count": null,
   "metadata": {
    "collapsed": true
   },
   "outputs": [],
   "source": []
  }
 ],
 "metadata": {
  "kernelspec": {
   "display_name": "Python [conda env:py27]",
   "language": "python",
   "name": "conda-env-py27-py"
  },
  "language_info": {
   "codemirror_mode": {
    "name": "ipython",
    "version": 2
   },
   "file_extension": ".py",
   "mimetype": "text/x-python",
   "name": "python",
   "nbconvert_exporter": "python",
   "pygments_lexer": "ipython2",
   "version": "2.7.14"
  }
 },
 "nbformat": 4,
 "nbformat_minor": 1
}
